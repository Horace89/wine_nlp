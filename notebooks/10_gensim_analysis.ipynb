{
 "cells": [
  {
   "cell_type": "code",
   "execution_count": 1,
   "metadata": {
    "collapsed": false
   },
   "outputs": [
    {
     "name": "stderr",
     "output_type": "stream",
     "text": [
      "/home/ubuntu/miniconda/envs/scienv3/lib/python3.5/site-packages/funcy-1.7.1-py3.5.egg/funcy/decorators.py:56: DeprecationWarning: inspect.getargspec() is deprecated, use inspect.signature() instead\n",
      "/home/ubuntu/miniconda/envs/scienv3/lib/python3.5/site-packages/funcy-1.7.1-py3.5.egg/funcy/decorators.py:56: DeprecationWarning: inspect.getargspec() is deprecated, use inspect.signature() instead\n",
      "/home/ubuntu/miniconda/envs/scienv3/lib/python3.5/site-packages/funcy-1.7.1-py3.5.egg/funcy/decorators.py:56: DeprecationWarning: inspect.getargspec() is deprecated, use inspect.signature() instead\n",
      "/home/ubuntu/miniconda/envs/scienv3/lib/python3.5/site-packages/funcy-1.7.1-py3.5.egg/funcy/decorators.py:56: DeprecationWarning: inspect.getargspec() is deprecated, use inspect.signature() instead\n",
      "/home/ubuntu/miniconda/envs/scienv3/lib/python3.5/site-packages/funcy-1.7.1-py3.5.egg/funcy/decorators.py:56: DeprecationWarning: inspect.getargspec() is deprecated, use inspect.signature() instead\n",
      "/home/ubuntu/miniconda/envs/scienv3/lib/python3.5/site-packages/funcy-1.7.1-py3.5.egg/funcy/decorators.py:56: DeprecationWarning: inspect.getargspec() is deprecated, use inspect.signature() instead\n",
      "/home/ubuntu/miniconda/envs/scienv3/lib/python3.5/site-packages/numpy/lib/utils.py:99: DeprecationWarning: `scipy.sparse.sparsetools` is deprecated!\n",
      "scipy.sparse.sparsetools is a private module for scipy.sparse, and should not be used.\n",
      "  warnings.warn(depdoc, DeprecationWarning)\n"
     ]
    }
   ],
   "source": [
    "import dill\n",
    "\n",
    "import numpy as np\n",
    "import pandas as pd\n",
    "import datetime\n",
    "\n",
    "\n",
    "import pyLDAvis.gensim\n",
    "pyLDAvis.enable_notebook()\n",
    "\n",
    "from gensim import corpora, models, similarities"
   ]
  },
  {
   "cell_type": "markdown",
   "metadata": {},
   "source": [
    "## Gensim"
   ]
  },
  {
   "cell_type": "code",
   "execution_count": 10,
   "metadata": {
    "collapsed": true
   },
   "outputs": [],
   "source": [
    "with open('../pkl/09_wine_enthusiast_analysis_word_lemm.pkl','rb') as fh:\n",
    "    texts = dill.load(fh)"
   ]
  },
  {
   "cell_type": "code",
   "execution_count": 11,
   "metadata": {
    "collapsed": false
   },
   "outputs": [],
   "source": [
    "dictionary = corpora.Dictionary(texts)\n",
    "bow_corpus = [dictionary.doc2bow(text) for text in texts]"
   ]
  },
  {
   "cell_type": "code",
   "execution_count": 14,
   "metadata": {
    "collapsed": false
   },
   "outputs": [
    {
     "name": "stdout",
     "output_type": "stream",
     "text": [
      "4\n",
      "2016-08-19 03:34:23.188131\n",
      "2016-08-19 04:33:18.546179\n"
     ]
    }
   ],
   "source": [
    "lda_models = list()\n",
    "\n",
    "for cluster in range(4,5):\n",
    "    print(cluster)\n",
    "    print(datetime.datetime.now())\n",
    "    \n",
    "    lda = models.LdaMulticore(bow_corpus, num_topics=cluster, \n",
    "                                id2word=dictionary,\n",
    "                                chunksize=10000, passes=100, workers=24)\n",
    "    \n",
    "    print(datetime.datetime.now())\n",
    "    \n",
    "    lda_models.append(lda)\n",
    "\n",
    "    with open('../pkl/10_gensim_analysis_lda_model_{}.pkl'.format(cluster),'wb') as fh:\n",
    "        dill.dump(lda, fh)\n",
    "    \n",
    "    ! echo \"pushover 'lda {cluster} finished'\" | /bin/zsh"
   ]
  },
  {
   "cell_type": "code",
   "execution_count": null,
   "metadata": {
    "collapsed": true
   },
   "outputs": [],
   "source": []
  },
  {
   "cell_type": "markdown",
   "metadata": {},
   "source": [
    "## pyLDA visualization"
   ]
  },
  {
   "cell_type": "code",
   "execution_count": 20,
   "metadata": {
    "collapsed": false
   },
   "outputs": [],
   "source": [
    "ldavis = pyLDAvis.gensim.prepare(lda_models[0], bow_corpus, dictionary, n_jobs=-1)"
   ]
  },
  {
   "cell_type": "code",
   "execution_count": 25,
   "metadata": {
    "collapsed": true
   },
   "outputs": [],
   "source": [
    "with open('../pkl/10_gensim_analysis_lda_vis_{}.pkl'.format(cluster),'wb') as fh:\n",
    "    dill.dump(ldavis, fh)"
   ]
  },
  {
   "cell_type": "code",
   "execution_count": 24,
   "metadata": {
    "collapsed": false,
    "scrolled": false
   },
   "outputs": [
    {
     "name": "stdout",
     "output_type": "stream",
     "text": [
      "\n",
      "Note: if you're in the IPython notebook, pyLDAvis.show() is not the best command\n",
      "      to use. Consider using pyLDAvis.display(), or pyLDAvis.enable_notebook().\n",
      "      See more information at http://pyLDAvis.github.io/quickstart.html .\n",
      "\n",
      "You must interrupt the kernel to end this command\n",
      "\n",
      "Serving to http://127.0.0.1:8889/    [Ctrl-C to exit]\n"
     ]
    },
    {
     "name": "stderr",
     "output_type": "stream",
     "text": [
      "127.0.0.1 - - [19/Aug/2016 10:23:10] \"GET / HTTP/1.0\" 200 -\n"
     ]
    },
    {
     "name": "stdout",
     "output_type": "stream",
     "text": [
      "\n",
      "stopping Server...\n"
     ]
    }
   ],
   "source": [
    "#pyLDAvis.show(ldavis)"
   ]
  },
  {
   "cell_type": "code",
   "execution_count": 28,
   "metadata": {
    "collapsed": false
   },
   "outputs": [],
   "source": [
    "with open('./10_gensim_analysis_lda_vis_{}.html'.format(cluster),'w') as fh:\n",
    "    pyLDAvis.save_html(ldavis,fh)"
   ]
  },
  {
   "cell_type": "code",
   "execution_count": 30,
   "metadata": {
    "collapsed": true
   },
   "outputs": [],
   "source": [
    "with open('./10_gensim_analysis_lda_vis_{}.json'.format(cluster),'w') as fh:\n",
    "    pyLDAvis.save_json(ldavis,fh)"
   ]
  }
 ],
 "metadata": {
  "kernelspec": {
   "display_name": "Python 3",
   "language": "python",
   "name": "python3"
  },
  "language_info": {
   "codemirror_mode": {
    "name": "ipython",
    "version": 3
   },
   "file_extension": ".py",
   "mimetype": "text/x-python",
   "name": "python",
   "nbconvert_exporter": "python",
   "pygments_lexer": "ipython3",
   "version": "3.5.2"
  }
 },
 "nbformat": 4,
 "nbformat_minor": 0
}
