{
 "cells": [
  {
   "cell_type": "code",
   "execution_count": 74,
   "metadata": {
    "collapsed": true
   },
   "outputs": [],
   "source": [
    "import pandas as pd\n",
    "import numpy as np\n",
    "\n",
    "import requests\n",
    "import json\n",
    "from bs4 import BeautifulSoup\n",
    "\n",
    "import dill\n",
    "import re\n",
    "import time"
   ]
  },
  {
   "cell_type": "markdown",
   "metadata": {},
   "source": [
    "First get a list of all the wine URLs."
   ]
  },
  {
   "cell_type": "code",
   "execution_count": 75,
   "metadata": {
    "collapsed": false
   },
   "outputs": [],
   "source": [
    "base_url = 'http://www.snooth.com/wines/#action=search&hide_state=1&country=US&color[0]={}&entity=wine&store_front=0&search_page={}'"
   ]
  },
  {
   "cell_type": "code",
   "execution_count": 76,
   "metadata": {
    "collapsed": false
   },
   "outputs": [
    {
     "name": "stdout",
     "output_type": "stream",
     "text": [
      "0\n",
      "1\n",
      "2\n"
     ]
    }
   ],
   "source": [
    "url_list = list()\n",
    "\n",
    "for color_no,pg_range in zip([0, 1, 2], [range(1,1001), range(1,1001), range(1,468)]):\n",
    "    \n",
    "    print color_no\n",
    "    \n",
    "    if color_no==0:\n",
    "        color='red'\n",
    "    elif color_no==1:\n",
    "        color='white'\n",
    "    else:\n",
    "        color='rose'\n",
    "    \n",
    "    for pg in pg_range:\n",
    "        url = base_url.format(color_no, pg)\n",
    "        req = requests.get(url)\n",
    "        soup = BeautifulSoup(req.text, 'lxml')\n",
    "\n",
    "        the_list = [x.find('a', href=True).get('href') \n",
    "                         for x in soup.find_all(attrs={'class':'wine-name'}) \n",
    "                         if x.find('a', href=True) is not None]\n",
    "        the_list = [(color,x) for x in the_list]\n",
    "        url_list.extend(the_list)"
   ]
  },
  {
   "cell_type": "code",
   "execution_count": 110,
   "metadata": {
    "collapsed": false
   },
   "outputs": [
    {
     "data": {
      "text/plain": [
       "49340"
      ]
     },
     "execution_count": 110,
     "metadata": {},
     "output_type": "execute_result"
    }
   ],
   "source": [
    "len(url_list)"
   ]
  },
  {
   "cell_type": "code",
   "execution_count": 111,
   "metadata": {
    "collapsed": false
   },
   "outputs": [],
   "source": [
    "with open('../pkl/02_snooth_dot_com_url_list.pkl','w') as fh:\n",
    "    dill.dump(url_list, fh)"
   ]
  },
  {
   "cell_type": "markdown",
   "metadata": {},
   "source": [
    "Then scrape the URLs."
   ]
  },
  {
   "cell_type": "code",
   "execution_count": 112,
   "metadata": {
    "collapsed": true
   },
   "outputs": [],
   "source": [
    "proxy1 = {'https': 'socks5://127.0.0.1:8081'}\n",
    "proxy2 = {'https': 'socks5://127.0.0.1:8082'}\n",
    "proxy3 = {'https': 'socks5://127.0.0.1:8083'}\n",
    "proxy4 = {'https': 'socks5://127.0.0.1:8084'}\n",
    "proxy_list = [proxy1, proxy2, proxy3, proxy4]"
   ]
  },
  {
   "cell_type": "code",
   "execution_count": null,
   "metadata": {
    "collapsed": false
   },
   "outputs": [
    {
     "name": "stdout",
     "output_type": "stream",
     "text": [
      "0\n",
      "100\n",
      "200\n",
      "300\n",
      "400\n"
     ]
    }
   ],
   "source": [
    "for url in enumerate(url_list):\n",
    "    if (url[0] % 100) == 0:\n",
    "        print url[0]\n",
    "        \n",
    "        if url[0] != 0:\n",
    "            wine_df = pd.concat(wine_df_list, axis=0).reset_index(drop=True)\n",
    "            wine_df.to_pickle('../pkl/02_snooth_dot_com_data_{}.pkl'.format(str(url[0])))\n",
    "        \n",
    "        wine_df_list = list()\n",
    "        \n",
    "    full_url = url[1][1]\n",
    "    color = url[1][0]\n",
    "    \n",
    "    proxy = np.random.choice(proxy_list)\n",
    "    html = requests.get(full_url, proxies=proxy)\n",
    "    soup = BeautifulSoup(html.text, 'lxml')\n",
    "    #time.sleep(1.5)\n",
    "    \n",
    "    wine_block1 = soup.find(attrs={'class':'wpp2014-wine_block-info'})\n",
    "    wine_block2 = soup.find(attrs={'class':'wpp2014-reg_rat-region_vintage'})\n",
    "    \n",
    "    # wine name and year\n",
    "    try:\n",
    "        wine = wine_block1.find(attrs={'id':'wine-name'}).text.strip()\n",
    "    except:\n",
    "        wine = ''\n",
    "        year = ''\n",
    "\n",
    "    try:\n",
    "        year = re.search(r\"\"\"((?:20|19)[0-9]{2})\"\"\", wine).group(1)\n",
    "        wine = wine.replace(year, '').strip()\n",
    "    except:\n",
    "        year = ''\n",
    "\n",
    "    # review\n",
    "    try:\n",
    "        review = wine_block1.find(attrs={'class':'winemakers-notes'}).text.replace(\"Winemaker's Notes:\", '').strip()\n",
    "    except:\n",
    "        review = review.strip()\n",
    "        \n",
    "    # prices\n",
    "    try:\n",
    "        price_list = wine_block1.find(attrs={'class':'wpp2014-wine_block-sample_prices'}).find_all(attrs={'itemprop':'price'})\n",
    "    except:\n",
    "        price_list = np.NaN\n",
    "    else:\n",
    "        price_list = np.array([float(x.text) for x in price_list]).mean()\n",
    "        \n",
    "    \n",
    "        \n",
    "    # region, winery, varietal\n",
    "    region = ''\n",
    "    winery = ''\n",
    "    varietal = ''\n",
    "\n",
    "    try:\n",
    "        data_list = [re.split(r\"\"\"\\s+\"\"\", x.text.replace(u'\\xbb', '').strip()) \n",
    "                     for x in wine_block2.find_all('div')]\n",
    "    except:\n",
    "        pass\n",
    "\n",
    "    try:\n",
    "        for l in data_list:\n",
    "            if 'region' in l[0].lower():\n",
    "                region = ' '.join(l[1:])\n",
    "            if 'winery' in l[0].lower():\n",
    "                winery = ' '.join(l[1:])\n",
    "            if 'varietal' in l[0].lower():\n",
    "                varietal = ' '.join(l[1:])\n",
    "    except:\n",
    "        pass\n",
    "    \n",
    "    \n",
    "    df = pd.DataFrame({'wine':wine, 'year':year, \n",
    "                   'review':review,\n",
    "                   'region':region, 'winery':winery, 'varietal':varietal,\n",
    "                       'price':price_list,\n",
    "                   'color':color, 'url':full_url}, index=pd.Index([0]))\n",
    "    \n",
    "    wine_df_list.append(df)\n",
    "    \n",
    "wine_df = pd.concat(wine_df_list, axis=0).reset_index(drop=True)\n",
    "wine_df.to_pickle('../pkl/02_snooth_dot_com_data_{}.pkl'.format(str(url[0])))"
   ]
  },
  {
   "cell_type": "code",
   "execution_count": null,
   "metadata": {
    "collapsed": true
   },
   "outputs": [],
   "source": []
  }
 ],
 "metadata": {
  "kernelspec": {
   "display_name": "Python 2",
   "language": "python",
   "name": "python2"
  },
  "language_info": {
   "codemirror_mode": {
    "name": "ipython",
    "version": 2
   },
   "file_extension": ".py",
   "mimetype": "text/x-python",
   "name": "python",
   "nbconvert_exporter": "python",
   "pygments_lexer": "ipython2",
   "version": "2.7.12"
  }
 },
 "nbformat": 4,
 "nbformat_minor": 0
}
