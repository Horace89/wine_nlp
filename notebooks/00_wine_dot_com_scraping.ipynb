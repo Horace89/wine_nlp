{
 "cells": [
  {
   "cell_type": "code",
   "execution_count": 131,
   "metadata": {
    "ExecuteTime": {
     "end_time": "2016-08-11T11:38:57.273918",
     "start_time": "2016-08-11T11:38:57.267139"
    },
    "collapsed": true
   },
   "outputs": [],
   "source": [
    "import pandas as pd\n",
    "import numpy as np\n",
    "\n",
    "import requests\n",
    "import json\n",
    "from bs4 import BeautifulSoup\n",
    "\n",
    "import dill\n",
    "import re\n",
    "import time"
   ]
  },
  {
   "cell_type": "markdown",
   "metadata": {},
   "source": [
    "Scrape the list of wines."
   ]
  },
  {
   "cell_type": "code",
   "execution_count": 132,
   "metadata": {
    "ExecuteTime": {
     "end_time": "2016-08-11T12:06:20.048136",
     "start_time": "2016-08-11T12:06:20.041419"
    },
    "collapsed": true
   },
   "outputs": [],
   "source": [
    "page_list = [range(0,52), range(0,22), range(0,2)]\n",
    "url_list = ['http://www.wine.com/v6/Red-Wine/wine/list.aspx?N=7155+124&pagelength=100&Nao={}',\n",
    "            'http://www.wine.com/v6/White-Wine/wine/list.aspx?N=7155+125&pagelength=100&Nao={}',\n",
    "            'http://www.wine.com/v6/Rose-Wine/wine/list.aspx?N=7155+126&pagelength=100&Nao={}']\n",
    "color_list = ['red', 'white', 'rose']"
   ]
  },
  {
   "cell_type": "code",
   "execution_count": 134,
   "metadata": {
    "ExecuteTime": {
     "end_time": "2016-08-11T12:07:01.277160",
     "start_time": "2016-08-11T12:06:43.806369"
    },
    "collapsed": false
   },
   "outputs": [
    {
     "name": "stdout",
     "output_type": "stream",
     "text": [
      "http://www.wine.com/v6/Red-Wine/wine/list.aspx?N=7155+124&pagelength=100&Nao={}\n",
      "http://www.wine.com/v6/White-Wine/wine/list.aspx?N=7155+125&pagelength=100&Nao={}\n",
      "http://www.wine.com/v6/Rose-Wine/wine/list.aspx?N=7155+126&pagelength=100&Nao={}\n"
     ]
    }
   ],
   "source": [
    "wine_urls = list()\n",
    "\n",
    "for page_range, url_base, color in zip(page_list, url_list, color_list):\n",
    "    print url_base\n",
    "    for pg in page_range:\n",
    "        url_no = 1+100*pg\n",
    "\n",
    "        # Get the HTML\n",
    "        req = requests.get(url_base.format(url_no))\n",
    "        soup = BeautifulSoup(req.text, 'lxml')\n",
    "\n",
    "        # Get the item list \n",
    "        item_list = soup.find(attrs={'class':'productList'}).find_all(attrs={'class':'verticalListItem'})\n",
    "        item_list = [x.find('a',href=True).get('href') for x in item_list]\n",
    "        item_list = [(color, 'http://www.wine.com'+x) for x in item_list]\n",
    "        wine_urls.extend(item_list)"
   ]
  },
  {
   "cell_type": "code",
   "execution_count": 135,
   "metadata": {
    "ExecuteTime": {
     "end_time": "2016-08-11T12:07:13.108070",
     "start_time": "2016-08-11T12:07:13.101576"
    },
    "collapsed": false
   },
   "outputs": [],
   "source": [
    "with open('../pkl/00_wine_dot_com_url_list.pkl','w') as fh:\n",
    "    dill.dump(wine_urls, fh)"
   ]
  },
  {
   "cell_type": "code",
   "execution_count": 136,
   "metadata": {
    "collapsed": false
   },
   "outputs": [
    {
     "data": {
      "text/plain": [
       "7600"
      ]
     },
     "execution_count": 136,
     "metadata": {},
     "output_type": "execute_result"
    }
   ],
   "source": [
    "len(wine_urls)"
   ]
  },
  {
   "cell_type": "markdown",
   "metadata": {},
   "source": [
    "Scrape each of the web pages."
   ]
  },
  {
   "cell_type": "code",
   "execution_count": 139,
   "metadata": {
    "collapsed": true
   },
   "outputs": [],
   "source": [
    "proxy1 = {'https': 'socks5://127.0.0.1:8081'}\n",
    "proxy2 = {'https': 'socks5://127.0.0.1:8082'}\n",
    "proxy3 = {'https': 'socks5://127.0.0.1:8083'}\n",
    "proxy4 = {'https': 'socks5://127.0.0.1:8084'}\n",
    "proxy_list = [proxy1, proxy2, proxy3, proxy4]"
   ]
  },
  {
   "cell_type": "code",
   "execution_count": null,
   "metadata": {
    "ExecuteTime": {
     "end_time": "2016-08-11T11:46:43.381505",
     "start_time": "2016-08-11T11:46:43.359736"
    },
    "collapsed": false
   },
   "outputs": [
    {
     "name": "stdout",
     "output_type": "stream",
     "text": [
      "0\n",
      "100\n",
      "200\n",
      "300\n",
      "400\n",
      "500\n",
      "600\n",
      "700\n",
      "800\n",
      "900\n",
      "1000\n",
      "1100\n",
      "1200\n",
      "1300\n",
      "1400\n",
      "1500\n",
      "1600\n",
      "1700\n",
      "1800\n",
      "1900\n",
      "2000\n",
      "2100\n",
      "2200\n",
      "2300\n",
      "2400\n",
      "2500\n",
      "2600\n",
      "2700\n",
      "2800\n",
      "2900\n",
      "3000\n",
      "3100\n"
     ]
    }
   ],
   "source": [
    "for url in enumerate(wine_urls):\n",
    "    \n",
    "    if (url[0] % 100) == 0:\n",
    "        print url[0]\n",
    "        \n",
    "        if url[0] != 0:\n",
    "            wine_df = pd.concat(wine_df_list, axis=0).reset_index(drop=True)\n",
    "            wine_df.to_pickle('../pkl/00_wine_dot_com_data_{}.pkl'.format(str(url[0])))\n",
    "        \n",
    "        wine_df_list = list()\n",
    "    \n",
    "    \n",
    "    full_url = url[1][1]\n",
    "    color = url[1][0]\n",
    "    proxy = np.random.choice(proxy_list)\n",
    "    html = requests.get(full_url, proxies=proxy)\n",
    "    soup = BeautifulSoup(html.text, 'lxml')\n",
    "    wine_text = soup.find(attrs={'class': 'productAbstract'})\n",
    "    time.sleep(1.5)\n",
    "    \n",
    "    # wine\n",
    "    try:\n",
    "        wine = wine_text.find('h1').text.strip()\n",
    "    except:\n",
    "        wine = ''\n",
    "\n",
    "    try:\n",
    "        year = re.search(r\"\"\"((?:20|19)[0-9]{2})\"\"\", wine).group(1)\n",
    "        wine = wine.replace(year, '').strip()\n",
    "    except:\n",
    "        year = ''\n",
    "        \n",
    "    # kind, region\n",
    "    try:\n",
    "        kind_loc_match = re.search(r\"\"\"(.+) from (.+)\"\"\", wine_text.find('h2').text.strip())\n",
    "    except:\n",
    "        kind = ''\n",
    "        region = ''\n",
    "    else:\n",
    "        try:\n",
    "            kind = kind_loc_match.group(1)\n",
    "        except:\n",
    "            kind = ''\n",
    "\n",
    "        try:\n",
    "            region = kind_loc_match.group(2)\n",
    "        except:\n",
    "            region = ''\n",
    "            \n",
    "    # review\n",
    "    try:\n",
    "        review = soup.find(attrs={'class':'tabContent aboutTheWine active'}).find(attrs={'itemprop':'description'}).text\n",
    "    except:\n",
    "        review = ''\n",
    "        \n",
    "    # winery\n",
    "    try:\n",
    "        winery = soup.find(attrs={'class':'tabContent theWinery'}).find('h3').text.strip()\n",
    "    except:\n",
    "        winery = ''\n",
    "        \n",
    "    # ratings\n",
    "    try:\n",
    "        ratings_list = [x.text.strip() \n",
    "                        for x in \n",
    "                        wine_text.find_all(attrs={'class': 'wineRatings'})]\n",
    "\n",
    "        ratings_list = [re.findall(r\"\"\"((?:20|19)[0-9]{2}|[A-Z]{2}[0-9]{2})\"\"\", x) \n",
    "                        for x in ratings_list]\n",
    "\n",
    "        recent = [float(re.search(r\"\"\"[0-9]+\"\"\", x).group(0)) for x in ratings_list[0]]\n",
    "        if len(recent) >= 1:\n",
    "            rating = np.array(recent).mean()\n",
    "        else:\n",
    "            rating = np.NaN\n",
    "    except:\n",
    "        rating = np.NaN\n",
    "        \n",
    "        \n",
    "    df = pd.DataFrame({'wine':wine, 'year':year, 'kind':kind,\n",
    "                       'region':region, 'review':review,\n",
    "                       'winery':winery, 'rating':rating,\n",
    "                       'color':color, 'url':full_url}, index=pd.Index([0]))\n",
    "    \n",
    "    wine_df_list.append(df)\n",
    "    \n",
    "    \n",
    "wine_df = pd.concat(wine_df_list, axis=0).reset_index(drop=True)\n",
    "wine_df.to_pickle('../pkl/00_wine_dot_com_data_{}.pkl'.format(str(url[0])))"
   ]
  },
  {
   "cell_type": "code",
   "execution_count": null,
   "metadata": {
    "collapsed": true
   },
   "outputs": [],
   "source": []
  }
 ],
 "metadata": {
  "kernelspec": {
   "display_name": "Python 2",
   "language": "python",
   "name": "python2"
  },
  "language_info": {
   "codemirror_mode": {
    "name": "ipython",
    "version": 2
   },
   "file_extension": ".py",
   "mimetype": "text/x-python",
   "name": "python",
   "nbconvert_exporter": "python",
   "pygments_lexer": "ipython2",
   "version": "2.7.12"
  }
 },
 "nbformat": 4,
 "nbformat_minor": 0
}
