{
 "cells": [
  {
   "cell_type": "code",
   "execution_count": 13,
   "metadata": {
    "ExecuteTime": {
     "end_time": "2016-08-11T06:08:51.570350",
     "start_time": "2016-08-11T06:08:51.562691"
    },
    "collapsed": true
   },
   "outputs": [],
   "source": [
    "import pandas as pd\n",
    "import numpy as np\n",
    "import requests\n",
    "from bs4 import BeautifulSoup\n",
    "import dill\n",
    "import re\n",
    "import time\n",
    "from selenium import webdriver\n",
    "\n",
    "from winespectator_login import winespectator_login_name, winespectator_password"
   ]
  },
  {
   "cell_type": "markdown",
   "metadata": {},
   "source": [
    "Get the list of daily pick URLs"
   ]
  },
  {
   "cell_type": "code",
   "execution_count": 25,
   "metadata": {
    "ExecuteTime": {
     "end_time": "2016-08-10T17:00:22.260528",
     "start_time": "2016-08-10T16:55:48.461994"
    },
    "collapsed": false
   },
   "outputs": [],
   "source": [
    "base_url = 'http://www.winespectator.com/dailypicks/category/catid/1/page/{}'\n",
    "\n",
    "url_list = list()\n",
    "\n",
    "for pg in range(1,867):\n",
    "    url = base_url.format(pg)\n",
    "    req = requests.get(url)\n",
    "    soup = BeautifulSoup(req.text, 'lxml')\n",
    "    \n",
    "    soup_list = soup.find_all(attrs={'class':'daily-wine-items'})\n",
    "    \n",
    "    if len(soup_list) > 0:\n",
    "        for sl in soup_list:\n",
    "            try:\n",
    "                url_list.append(sl.find('a',href=True).get('href'))\n",
    "            except:\n",
    "                pass"
   ]
  },
  {
   "cell_type": "code",
   "execution_count": 4,
   "metadata": {
    "ExecuteTime": {
     "end_time": "2016-08-11T05:58:56.535133",
     "start_time": "2016-08-11T05:58:56.527017"
    },
    "collapsed": false
   },
   "outputs": [
    {
     "data": {
      "text/plain": [
       "4280"
      ]
     },
     "execution_count": 4,
     "metadata": {},
     "output_type": "execute_result"
    }
   ],
   "source": [
    "len(url_list)"
   ]
  },
  {
   "cell_type": "code",
   "execution_count": 29,
   "metadata": {
    "ExecuteTime": {
     "end_time": "2016-08-10T21:34:34.356795",
     "start_time": "2016-08-10T21:34:34.293595"
    },
    "collapsed": true
   },
   "outputs": [],
   "source": [
    "with open('../pkl/01_winespectator_dot_com_url_list.pkl','w') as fh:\n",
    "    dill.dump(url_list, fh)"
   ]
  },
  {
   "cell_type": "markdown",
   "metadata": {},
   "source": [
    "Extract individual articles from the urls."
   ]
  },
  {
   "cell_type": "code",
   "execution_count": 21,
   "metadata": {
    "ExecuteTime": {
     "end_time": "2016-08-11T06:12:52.377554",
     "start_time": "2016-08-11T06:12:27.741586"
    },
    "collapsed": false
   },
   "outputs": [],
   "source": [
    "# ssh -ND 8081 nestanmr\n",
    "# ssh -ND 8082 backupsy\n",
    "# ssh -ND 8083 aws\n",
    "# ssh -ND 8084 vultr\n",
    "phantom_path = '/Volumes/Files/homebrew/bin/phantomjs'\n",
    "\n",
    "service_args1 = ['--proxy=127.0.0.1:8081', '--proxy-type=socks5']\n",
    "service_args2 = ['--proxy=127.0.0.1:8082', '--proxy-type=socks5']\n",
    "service_args3 = ['--proxy=127.0.0.1:8083', '--proxy-type=socks5']\n",
    "service_args4 = ['--proxy=127.0.0.1:8084', '--proxy-type=socks5']\n",
    "\n",
    "driver1 = webdriver.PhantomJS(phantom_path, service_args=service_args1)\n",
    "driver2 = webdriver.PhantomJS(phantom_path, service_args=service_args2)\n",
    "driver3 = webdriver.PhantomJS(phantom_path, service_args=service_args3)\n",
    "driver4 = webdriver.PhantomJS(phantom_path, service_args=service_args4)\n",
    "\n",
    "driver_list = [driver1, driver2, driver3, driver4]\n",
    "\n",
    "for driver in driver_list:\n",
    "\n",
    "    driver.get('https://www.winespectator.com/auth/login')\n",
    "\n",
    "    userid = driver.find_element_by_name('userid')\n",
    "    userid.send_keys(winespectator_login_name)\n",
    "\n",
    "    passwd = driver.find_element_by_name('passwd')\n",
    "    passwd.send_keys(winespectator_password)\n",
    "\n",
    "    login = driver.find_element_by_id('target')\n",
    "    login.click()\n",
    "\n",
    "    time.sleep(1.5)"
   ]
  },
  {
   "cell_type": "code",
   "execution_count": null,
   "metadata": {
    "ExecuteTime": {
     "start_time": "2016-08-11T10:12:55.042Z"
    },
    "collapsed": false
   },
   "outputs": [],
   "source": [
    "wine_df_list = list()\n",
    "\n",
    "for url in url_list[:10]:\n",
    "    driver = np.random.choice(driver_list)\n",
    "    full_url = 'http://www.winespectator.com/' + url\n",
    "    driver.get(full_url)\n",
    "    time.sleep(2)\n",
    "    \n",
    "    html = driver.page_source\n",
    "    \n",
    "    try:\n",
    "        soup = BeautifulSoup(html, 'lxml')\n",
    "        wine_data = soup.find(attrs={'class':'mod-container'})\n",
    "    except:\n",
    "        pass\n",
    "    \n",
    "    # extract winery name\n",
    "    try:\n",
    "        winery = wine_data.find('h1').text.strip()\n",
    "    except:\n",
    "        winery = ''\n",
    "    \n",
    "    # extract wine name\n",
    "    try:\n",
    "        wine = wine_data.find('h4').text.strip()\n",
    "    except:\n",
    "        pass\n",
    "\n",
    "    # extract year\n",
    "    try:\n",
    "        year = re.search(r\"\"\"((?:20|19)[0-9]{2})\"\"\", wine).group(1)\n",
    "        wine = wine.replace(year, '').strip()\n",
    "    except:\n",
    "        year = ''\n",
    "        \n",
    "    # extract review\n",
    "    try:\n",
    "        review = wine_data.find(attrs={'id':'bt-body'}).text.strip()\n",
    "    except:\n",
    "        review = ''\n",
    "        \n",
    "    # score\n",
    "    try:\n",
    "        score = wine_data.find(text=re.compile('Score: [0-9]{2}'))\n",
    "        score = score.replace('Score:', '').strip()\n",
    "    except:\n",
    "        score = ''\n",
    "        \n",
    "        \n",
    "    for para in wine_data.find_all(attrs={'class':'paragraph'}):\n",
    "        text = para.text\n",
    "\n",
    "        if 'Release Price' in text:\n",
    "            try:\n",
    "                release_price = re.search(r\"\"\"Release Price \\$([0-9\\.]+)\"\"\", text).group(1)\n",
    "            except:\n",
    "                release_price = ''\n",
    "        elif 'Country' in text:\n",
    "            try:\n",
    "                country = re.search(r\"\"\"Country (.+)\"\"\", text).group(1)\n",
    "            except:\n",
    "                country = ''\n",
    "        elif 'Region' in text:\n",
    "            try:\n",
    "                region = re.search(r\"\"\"Region (.+)\"\"\", text).group(1)\n",
    "            except:\n",
    "                region = ''\n",
    "    \n",
    "\n",
    "    df = pd.DataFrame({'winery':winery, 'wine':wine, 'year':year, 'score':score,\n",
    "                  'price':release_price, 'country':country, 'region':region,\n",
    "                  'review':review}, index=pd.Index([0]))\n",
    "    wine_df_list.append(df)"
   ]
  },
  {
   "cell_type": "code",
   "execution_count": null,
   "metadata": {
    "ExecuteTime": {
     "start_time": "2016-08-11T10:12:56.761Z"
    },
    "collapsed": false
   },
   "outputs": [],
   "source": [
    "wine_df = pd.concat(wine_df_list, axis=0).reset_index(drop=True)"
   ]
  },
  {
   "cell_type": "code",
   "execution_count": null,
   "metadata": {
    "ExecuteTime": {
     "start_time": "2016-08-11T10:12:57.583Z"
    },
    "collapsed": true
   },
   "outputs": [],
   "source": [
    "wine_df.to_pickle('../pkl/01_winespectator_dot_com_data.pkl')"
   ]
  }
 ],
 "metadata": {
  "kernelspec": {
   "display_name": "Python 2",
   "language": "python",
   "name": "python2"
  },
  "language_info": {
   "codemirror_mode": {
    "name": "ipython",
    "version": 2
   },
   "file_extension": ".py",
   "mimetype": "text/x-python",
   "name": "python",
   "nbconvert_exporter": "python",
   "pygments_lexer": "ipython2",
   "version": "2.7.12"
  }
 },
 "nbformat": 4,
 "nbformat_minor": 0
}
